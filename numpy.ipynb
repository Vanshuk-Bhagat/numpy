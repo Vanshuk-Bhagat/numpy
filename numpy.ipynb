{
 "cells": [
  {
   "cell_type": "code",
   "execution_count": 5,
   "id": "1d598e30-8cfd-4c28-8840-dbbc23fb26c8",
   "metadata": {},
   "outputs": [],
   "source": [
    "#How create Array using Numpy"
   ]
  },
  {
   "cell_type": "code",
   "execution_count": 27,
   "id": "80596b10-b8c0-4b39-aa82-5e5e08304f84",
   "metadata": {},
   "outputs": [
    {
     "name": "stdout",
     "output_type": "stream",
     "text": [
      "[ 10  18 161  19  28]\n",
      "<class 'numpy.ndarray'>\n"
     ]
    }
   ],
   "source": [
    "import numpy as np\n",
    "arr = np.array([10,18,161,19,28])\n",
    "print(arr)\n",
    "print(type(arr))"
   ]
  },
  {
   "cell_type": "code",
   "execution_count": 61,
   "id": "32889afc-ce0e-49ed-b29f-e44a4e39d381",
   "metadata": {},
   "outputs": [
    {
     "name": "stdout",
     "output_type": "stream",
     "text": [
      "[[ 10  18 161  19  28]\n",
      " [ 10  18 161  19  28]\n",
      " [ 10  18 161  19  28]\n",
      " [ 10  18 161  19  28]]\n"
     ]
    }
   ],
   "source": [
    "# lets make metrix of array\n",
    "import numpy as np\n",
    "arr = np.array([[10,18,161,19,28],[10,18,161,19,28],[10,18,161,19,28],[10,18,161,19,28]])\n",
    "print(arr)\n"
   ]
  },
  {
   "cell_type": "code",
   "execution_count": 63,
   "id": "0c4eedd1-4376-43c8-8a31-76b827c20c6f",
   "metadata": {},
   "outputs": [],
   "source": [
    "# Slicing in array"
   ]
  },
  {
   "cell_type": "code",
   "execution_count": 97,
   "id": "f7394f44-9071-49f8-8f58-d3a9d15fcd81",
   "metadata": {},
   "outputs": [
    {
     "name": "stdout",
     "output_type": "stream",
     "text": [
      "[[161  19]]\n",
      "(2, 5)\n",
      "10\n"
     ]
    }
   ],
   "source": [
    "import numpy as np\n",
    "arr = np.array([[10,18,161,19,28],[10,18,161,19,28]])\n",
    "print(arr[1:4,2:4])\n",
    "\n",
    "print(np.shape(arr))\n",
    "print(np.size(arr))\n"
   ]
  },
  {
   "cell_type": "code",
   "execution_count": 99,
   "id": "bb00cae9-ee91-4d90-a93d-3eda03fde63e",
   "metadata": {},
   "outputs": [],
   "source": [
    "# There are some functions to Inspect arrays"
   ]
  },
  {
   "cell_type": "code",
   "execution_count": 121,
   "id": "fddfcf0d-5ef0-47c5-bc95-fc0271f712be",
   "metadata": {},
   "outputs": [
    {
     "name": "stdout",
     "output_type": "stream",
     "text": [
      "[ 10  18 161  19  28]\n",
      "<class 'numpy.ndarray'>\n",
      "(5,)\n",
      "5\n",
      "1\n",
      "5\n",
      "['10' '18' '161' '19' '28']\n",
      "<class 'numpy.ndarray'>\n"
     ]
    }
   ],
   "source": [
    "import numpy as np\n",
    "arr = np.array([10,18,161,19,28])\n",
    "print(arr)\n",
    "print(type(arr)) #Type will show us data type\n",
    "print(np.shape(arr)) # will tell us shape\n",
    "print(np.size(arr)) # will tell us size\n",
    "print(np.ndim(arr)) # Dimansion of array\n",
    "print(len(arr)) # Len of array\n",
    "print(arr.astype(str)) # convert array into different type\n",
    "\n"
   ]
  },
  {
   "cell_type": "code",
   "execution_count": 123,
   "id": "ab865821-8c8d-4adf-9245-fa5b8ba17de2",
   "metadata": {},
   "outputs": [],
   "source": [
    "#Loops and Functions"
   ]
  },
  {
   "cell_type": "code",
   "execution_count": 133,
   "id": "0032c42e-aea3-482e-a994-52226487d995",
   "metadata": {},
   "outputs": [
    {
     "data": {
      "text/plain": [
       "[4, 8, 12, 16]"
      ]
     },
     "execution_count": 133,
     "metadata": {},
     "output_type": "execute_result"
    }
   ],
   "source": [
    "res = []\n",
    "temp = [2,4,6,8]\n",
    "for i in temp:\n",
    "  res.append(2*i) # This will multiply each number in temp by 2\n",
    "res"
   ]
  },
  {
   "cell_type": "code",
   "execution_count": 135,
   "id": "bb5a84d3-1a5e-42ab-a2c7-ac68be716d45",
   "metadata": {},
   "outputs": [],
   "source": [
    "# List comprehension way"
   ]
  },
  {
   "cell_type": "code",
   "execution_count": 139,
   "id": "f2bda159-8f39-404d-93e9-eaa9a0eeb11c",
   "metadata": {},
   "outputs": [
    {
     "data": {
      "text/plain": [
       "[4, 8, 12, 16]"
      ]
     },
     "execution_count": 139,
     "metadata": {},
     "output_type": "execute_result"
    }
   ],
   "source": [
    "[2*x for x in temp]"
   ]
  },
  {
   "cell_type": "code",
   "execution_count": 215,
   "id": "6331214e-7e6e-4910-a4e2-d91915c5565c",
   "metadata": {},
   "outputs": [],
   "source": [
    "# Using numpy"
   ]
  },
  {
   "cell_type": "code",
   "execution_count": 294,
   "id": "166ed066-b025-4bde-9c2a-d98587ba71b4",
   "metadata": {},
   "outputs": [
    {
     "name": "stdout",
     "output_type": "stream",
     "text": [
      "<class 'list'>\n"
     ]
    }
   ],
   "source": [
    "# Here we have a simple List\n",
    "distance = [45,23,34]\n",
    "speed = [5,32,77]\n",
    "print(type([distance, speed]))"
   ]
  },
  {
   "cell_type": "code",
   "execution_count": 308,
   "id": "5bcab670-9698-43dc-9ad5-14b7064a303a",
   "metadata": {},
   "outputs": [],
   "source": [
    "import numpy as array\n",
    "import numpy as arrange"
   ]
  },
  {
   "cell_type": "code",
   "execution_count": 310,
   "id": "e3310792-e93d-4df5-9ac5-7e82755126c5",
   "metadata": {},
   "outputs": [
    {
     "name": "stdout",
     "output_type": "stream",
     "text": [
      "[45 23 34]\n",
      "[ 5 32 77]\n",
      "[9.         0.71875    0.44155844]\n"
     ]
    },
    {
     "data": {
      "text/plain": [
       "numpy.ndarray"
      ]
     },
     "execution_count": 310,
     "metadata": {},
     "output_type": "execute_result"
    }
   ],
   "source": [
    "# Lets convert the List into Arrays\n",
    "dist = np.array(distance)\n",
    "spd = np.array(speed)\n",
    "print (dist)\n",
    "print (spd)\n",
    "time = dist/spd\n",
    "print (time)\n",
    "type(time)"
   ]
  },
  {
   "cell_type": "code",
   "execution_count": 312,
   "id": "476a04ec-2acc-4598-85dc-1d37f631cc4b",
   "metadata": {},
   "outputs": [],
   "source": [
    "# Airthmetic Operations"
   ]
  },
  {
   "cell_type": "code",
   "execution_count": 314,
   "id": "3d17b40a-1685-4b2b-b41a-a728d53a5ece",
   "metadata": {},
   "outputs": [
    {
     "name": "stdout",
     "output_type": "stream",
     "text": [
      "[11 22 33 44 55 66]\n"
     ]
    },
    {
     "data": {
      "text/plain": [
       "array([ -9, -18, -27, -36, -45, -54])"
      ]
     },
     "execution_count": 314,
     "metadata": {},
     "output_type": "execute_result"
    }
   ],
   "source": [
    "a = np.array([1,2,3,4,5,6])\n",
    "b = np.array([10,20,30,40,50,60])\n",
    "print (a+b)  \n",
    "a*b\n",
    "a-b"
   ]
  },
  {
   "cell_type": "code",
   "execution_count": 316,
   "id": "e478d8b5-e65c-4ca8-8f6a-ada536446641",
   "metadata": {},
   "outputs": [],
   "source": [
    "#Arrange method"
   ]
  },
  {
   "cell_type": "code",
   "execution_count": 330,
   "id": "3fdd71f4-c194-4a23-93fc-de8fae8dc819",
   "metadata": {},
   "outputs": [
    {
     "name": "stdout",
     "output_type": "stream",
     "text": [
      "[ 0  1  2  3  4  5  6  7  8  9 10 11 12 13 14]\n",
      "[ 5 10 15 20 25 30 35 40 45 50 55]\n"
     ]
    }
   ],
   "source": [
    "c = np.arange(15)\n",
    "print(c)\n",
    "\n",
    "d = np.arange(5,56,5)\n",
    "print(d)"
   ]
  },
  {
   "cell_type": "code",
   "execution_count": 332,
   "id": "8ef7904d-5599-4c0c-b8be-ae7406e70f3b",
   "metadata": {},
   "outputs": [],
   "source": [
    "# Using linspace"
   ]
  },
  {
   "cell_type": "code",
   "execution_count": 334,
   "id": "aca73416-dcf8-4a75-bc9b-2b7ef5fe58f7",
   "metadata": {},
   "outputs": [
    {
     "name": "stdout",
     "output_type": "stream",
     "text": [
      "[  3.    27.25  51.5   75.75 100.  ]\n"
     ]
    }
   ],
   "source": [
    "e = np.linspace(3,100,5)\n",
    "print(e)"
   ]
  },
  {
   "cell_type": "code",
   "execution_count": null,
   "id": "56721a24-4773-4dd3-835c-0badb908831c",
   "metadata": {},
   "outputs": [],
   "source": [
    "# Use reshape (It is used to create dimensions)"
   ]
  },
  {
   "cell_type": "code",
   "execution_count": 370,
   "id": "835487c4-8923-4513-8787-68a850181b2c",
   "metadata": {},
   "outputs": [
    {
     "name": "stdout",
     "output_type": "stream",
     "text": [
      "[ 1  2  3  4  5  6  7  8  9  0  0 99 88 77 66 55 55 44 34 23]\n",
      "[[ 1  2  3  4]\n",
      " [ 5  6  7  8]\n",
      " [ 9  0  0 99]\n",
      " [88 77 66 55]\n",
      " [55 44 34 23]]\n",
      "[[[ 1  2  3  4  5]\n",
      "  [ 6  7  8  9  0]]\n",
      "\n",
      " [[ 0 99 88 77 66]\n",
      "  [55 55 44 34 23]]]\n"
     ]
    }
   ],
   "source": [
    "f = np.array([1,2,3,4,5,6,7,8,9,0,0,99,88,77,66,55,55,44,34,23])\n",
    "print(f)\n",
    "g = f.reshape(5,4)\n",
    "print(g)\n",
    "h = f.reshape(2,2,5)\n",
    "print(h)"
   ]
  },
  {
   "cell_type": "code",
   "execution_count": null,
   "id": "2856e218-9334-4dec-8de6-f1cd9238e534",
   "metadata": {},
   "outputs": [],
   "source": [
    "# Making Ones and Zero"
   ]
  },
  {
   "cell_type": "code",
   "execution_count": 388,
   "id": "a66407e5-3dd9-4fed-ab92-5684200b7dcd",
   "metadata": {},
   "outputs": [
    {
     "name": "stdout",
     "output_type": "stream",
     "text": [
      "[1. 1. 1. 1. 1.]\n",
      "[0. 0. 0. 0. 0.]\n"
     ]
    }
   ],
   "source": [
    "s = np.ones(5)\n",
    "print(s)\n",
    "j = np.zeros(5)\n",
    "print(j)"
   ]
  },
  {
   "cell_type": "code",
   "execution_count": 390,
   "id": "41f8e904-84fe-4cc7-a117-ec1c73c8f223",
   "metadata": {},
   "outputs": [],
   "source": [
    "# Create Identity matrix"
   ]
  },
  {
   "cell_type": "code",
   "execution_count": 398,
   "id": "e53613b5-bd4a-4c53-a6c7-0f336c6c9c9f",
   "metadata": {},
   "outputs": [
    {
     "name": "stdout",
     "output_type": "stream",
     "text": [
      "[[1. 0. 0. 0. 0. 0.]\n",
      " [0. 1. 0. 0. 0. 0.]\n",
      " [0. 0. 1. 0. 0. 0.]\n",
      " [0. 0. 0. 1. 0. 0.]\n",
      " [0. 0. 0. 0. 1. 0.]\n",
      " [0. 0. 0. 0. 0. 1.]]\n",
      "[[1. 0. 0. 0. 0. 0.]\n",
      " [0. 1. 0. 0. 0. 0.]\n",
      " [0. 0. 1. 0. 0. 0.]\n",
      " [0. 0. 0. 1. 0. 0.]\n",
      " [0. 0. 0. 0. 1. 0.]]\n"
     ]
    }
   ],
   "source": [
    "l = np.eye(6)\n",
    "print(l)\n",
    "r = np.eye(5,6)\n",
    "print(r)"
   ]
  },
  {
   "cell_type": "code",
   "execution_count": 267,
   "id": "b1afc621-5a4b-48db-84b9-025a4cfb37c2",
   "metadata": {},
   "outputs": [
    {
     "data": {
      "text/plain": [
       "array([ 10,  40,  90, 160, 250, 360])"
      ]
     },
     "execution_count": 267,
     "metadata": {},
     "output_type": "execute_result"
    }
   ],
   "source": [
    "import pandas as pd\n",
    "pd = pd.read_csv(\"store_sales.csv\")\n",
    "pd.tail()"
   ]
  },
  {
   "cell_type": "code",
   "execution_count": 285,
   "id": "551151e2-a044-4387-a615-eab4990058a8",
   "metadata": {},
   "outputs": [
    {
     "data": {
      "text/html": [
       "<div>\n",
       "<style scoped>\n",
       "    .dataframe tbody tr th:only-of-type {\n",
       "        vertical-align: middle;\n",
       "    }\n",
       "\n",
       "    .dataframe tbody tr th {\n",
       "        vertical-align: top;\n",
       "    }\n",
       "\n",
       "    .dataframe thead th {\n",
       "        text-align: right;\n",
       "    }\n",
       "</style>\n",
       "<table border=\"1\" class=\"dataframe\">\n",
       "  <thead>\n",
       "    <tr style=\"text-align: right;\">\n",
       "      <th></th>\n",
       "      <th>store_id</th>\n",
       "      <th>city</th>\n",
       "      <th>Jan</th>\n",
       "      <th>Feb</th>\n",
       "      <th>Mar</th>\n",
       "      <th>Apr</th>\n",
       "      <th>May</th>\n",
       "      <th>Jun</th>\n",
       "      <th>July</th>\n",
       "      <th>Aug</th>\n",
       "      <th>...</th>\n",
       "      <th>Mar</th>\n",
       "      <th>Apr</th>\n",
       "      <th>May</th>\n",
       "      <th>Jun</th>\n",
       "      <th>July</th>\n",
       "      <th>Aug</th>\n",
       "      <th>Sep</th>\n",
       "      <th>Oct</th>\n",
       "      <th>Nov</th>\n",
       "      <th>Dec</th>\n",
       "    </tr>\n",
       "  </thead>\n",
       "  <tbody>\n",
       "    <tr>\n",
       "      <th>0</th>\n",
       "      <td>S_1</td>\n",
       "      <td>Texas</td>\n",
       "      <td>8</td>\n",
       "      <td>20</td>\n",
       "      <td>13</td>\n",
       "      <td>21</td>\n",
       "      <td>17</td>\n",
       "      <td>20</td>\n",
       "      <td>24</td>\n",
       "      <td>17</td>\n",
       "      <td>...</td>\n",
       "      <td>eligible</td>\n",
       "      <td>eligible</td>\n",
       "      <td>eligible</td>\n",
       "      <td>eligible</td>\n",
       "      <td>eligible</td>\n",
       "      <td>eligible</td>\n",
       "      <td>eligible</td>\n",
       "      <td>not eligible</td>\n",
       "      <td>not eligible</td>\n",
       "      <td>not eligible</td>\n",
       "    </tr>\n",
       "    <tr>\n",
       "      <th>1</th>\n",
       "      <td>S_2</td>\n",
       "      <td>California</td>\n",
       "      <td>12</td>\n",
       "      <td>19</td>\n",
       "      <td>15</td>\n",
       "      <td>15</td>\n",
       "      <td>11</td>\n",
       "      <td>19</td>\n",
       "      <td>7</td>\n",
       "      <td>15</td>\n",
       "      <td>...</td>\n",
       "      <td>eligible</td>\n",
       "      <td>eligible</td>\n",
       "      <td>eligible</td>\n",
       "      <td>eligible</td>\n",
       "      <td>not eligible</td>\n",
       "      <td>eligible</td>\n",
       "      <td>not eligible</td>\n",
       "      <td>eligible</td>\n",
       "      <td>eligible</td>\n",
       "      <td>eligible</td>\n",
       "    </tr>\n",
       "    <tr>\n",
       "      <th>2</th>\n",
       "      <td>S_3</td>\n",
       "      <td>California</td>\n",
       "      <td>16</td>\n",
       "      <td>16</td>\n",
       "      <td>14</td>\n",
       "      <td>19</td>\n",
       "      <td>23</td>\n",
       "      <td>6</td>\n",
       "      <td>13</td>\n",
       "      <td>13</td>\n",
       "      <td>...</td>\n",
       "      <td>eligible</td>\n",
       "      <td>eligible</td>\n",
       "      <td>eligible</td>\n",
       "      <td>not eligible</td>\n",
       "      <td>eligible</td>\n",
       "      <td>eligible</td>\n",
       "      <td>eligible</td>\n",
       "      <td>eligible</td>\n",
       "      <td>eligible</td>\n",
       "      <td>not eligible</td>\n",
       "    </tr>\n",
       "    <tr>\n",
       "      <th>3</th>\n",
       "      <td>S_4</td>\n",
       "      <td>Texas</td>\n",
       "      <td>8</td>\n",
       "      <td>18</td>\n",
       "      <td>13</td>\n",
       "      <td>10</td>\n",
       "      <td>14</td>\n",
       "      <td>14</td>\n",
       "      <td>6</td>\n",
       "      <td>8</td>\n",
       "      <td>...</td>\n",
       "      <td>eligible</td>\n",
       "      <td>not eligible</td>\n",
       "      <td>eligible</td>\n",
       "      <td>eligible</td>\n",
       "      <td>not eligible</td>\n",
       "      <td>not eligible</td>\n",
       "      <td>not eligible</td>\n",
       "      <td>eligible</td>\n",
       "      <td>not eligible</td>\n",
       "      <td>eligible</td>\n",
       "    </tr>\n",
       "    <tr>\n",
       "      <th>4</th>\n",
       "      <td>S_5</td>\n",
       "      <td>Texas</td>\n",
       "      <td>19</td>\n",
       "      <td>5</td>\n",
       "      <td>24</td>\n",
       "      <td>9</td>\n",
       "      <td>5</td>\n",
       "      <td>24</td>\n",
       "      <td>10</td>\n",
       "      <td>5</td>\n",
       "      <td>...</td>\n",
       "      <td>eligible</td>\n",
       "      <td>not eligible</td>\n",
       "      <td>not eligible</td>\n",
       "      <td>eligible</td>\n",
       "      <td>not eligible</td>\n",
       "      <td>not eligible</td>\n",
       "      <td>eligible</td>\n",
       "      <td>eligible</td>\n",
       "      <td>not eligible</td>\n",
       "      <td>eligible</td>\n",
       "    </tr>\n",
       "    <tr>\n",
       "      <th>...</th>\n",
       "      <td>...</td>\n",
       "      <td>...</td>\n",
       "      <td>...</td>\n",
       "      <td>...</td>\n",
       "      <td>...</td>\n",
       "      <td>...</td>\n",
       "      <td>...</td>\n",
       "      <td>...</td>\n",
       "      <td>...</td>\n",
       "      <td>...</td>\n",
       "      <td>...</td>\n",
       "      <td>...</td>\n",
       "      <td>...</td>\n",
       "      <td>...</td>\n",
       "      <td>...</td>\n",
       "      <td>...</td>\n",
       "      <td>...</td>\n",
       "      <td>...</td>\n",
       "      <td>...</td>\n",
       "      <td>...</td>\n",
       "      <td>...</td>\n",
       "    </tr>\n",
       "    <tr>\n",
       "      <th>95</th>\n",
       "      <td>S_96</td>\n",
       "      <td>Texas</td>\n",
       "      <td>7</td>\n",
       "      <td>10</td>\n",
       "      <td>20</td>\n",
       "      <td>20</td>\n",
       "      <td>10</td>\n",
       "      <td>15</td>\n",
       "      <td>15</td>\n",
       "      <td>21</td>\n",
       "      <td>...</td>\n",
       "      <td>eligible</td>\n",
       "      <td>eligible</td>\n",
       "      <td>not eligible</td>\n",
       "      <td>eligible</td>\n",
       "      <td>eligible</td>\n",
       "      <td>eligible</td>\n",
       "      <td>eligible</td>\n",
       "      <td>not eligible</td>\n",
       "      <td>eligible</td>\n",
       "      <td>eligible</td>\n",
       "    </tr>\n",
       "    <tr>\n",
       "      <th>96</th>\n",
       "      <td>S_97</td>\n",
       "      <td>California</td>\n",
       "      <td>13</td>\n",
       "      <td>6</td>\n",
       "      <td>7</td>\n",
       "      <td>15</td>\n",
       "      <td>22</td>\n",
       "      <td>10</td>\n",
       "      <td>21</td>\n",
       "      <td>23</td>\n",
       "      <td>...</td>\n",
       "      <td>not eligible</td>\n",
       "      <td>eligible</td>\n",
       "      <td>eligible</td>\n",
       "      <td>not eligible</td>\n",
       "      <td>eligible</td>\n",
       "      <td>eligible</td>\n",
       "      <td>not eligible</td>\n",
       "      <td>not eligible</td>\n",
       "      <td>eligible</td>\n",
       "      <td>not eligible</td>\n",
       "    </tr>\n",
       "    <tr>\n",
       "      <th>97</th>\n",
       "      <td>S_98</td>\n",
       "      <td>Texas</td>\n",
       "      <td>16</td>\n",
       "      <td>9</td>\n",
       "      <td>6</td>\n",
       "      <td>14</td>\n",
       "      <td>20</td>\n",
       "      <td>13</td>\n",
       "      <td>11</td>\n",
       "      <td>10</td>\n",
       "      <td>...</td>\n",
       "      <td>not eligible</td>\n",
       "      <td>eligible</td>\n",
       "      <td>eligible</td>\n",
       "      <td>eligible</td>\n",
       "      <td>eligible</td>\n",
       "      <td>not eligible</td>\n",
       "      <td>not eligible</td>\n",
       "      <td>eligible</td>\n",
       "      <td>eligible</td>\n",
       "      <td>eligible</td>\n",
       "    </tr>\n",
       "    <tr>\n",
       "      <th>98</th>\n",
       "      <td>S_99</td>\n",
       "      <td>Arizona</td>\n",
       "      <td>18</td>\n",
       "      <td>16</td>\n",
       "      <td>9</td>\n",
       "      <td>5</td>\n",
       "      <td>12</td>\n",
       "      <td>22</td>\n",
       "      <td>11</td>\n",
       "      <td>13</td>\n",
       "      <td>...</td>\n",
       "      <td>not eligible</td>\n",
       "      <td>not eligible</td>\n",
       "      <td>eligible</td>\n",
       "      <td>eligible</td>\n",
       "      <td>eligible</td>\n",
       "      <td>eligible</td>\n",
       "      <td>eligible</td>\n",
       "      <td>eligible</td>\n",
       "      <td>eligible</td>\n",
       "      <td>not eligible</td>\n",
       "    </tr>\n",
       "    <tr>\n",
       "      <th>99</th>\n",
       "      <td>S_100</td>\n",
       "      <td>California</td>\n",
       "      <td>5</td>\n",
       "      <td>23</td>\n",
       "      <td>17</td>\n",
       "      <td>24</td>\n",
       "      <td>15</td>\n",
       "      <td>21</td>\n",
       "      <td>19</td>\n",
       "      <td>10</td>\n",
       "      <td>...</td>\n",
       "      <td>eligible</td>\n",
       "      <td>eligible</td>\n",
       "      <td>eligible</td>\n",
       "      <td>eligible</td>\n",
       "      <td>eligible</td>\n",
       "      <td>not eligible</td>\n",
       "      <td>eligible</td>\n",
       "      <td>eligible</td>\n",
       "      <td>not eligible</td>\n",
       "      <td>not eligible</td>\n",
       "    </tr>\n",
       "  </tbody>\n",
       "</table>\n",
       "<p>100 rows × 27 columns</p>\n",
       "</div>"
      ],
      "text/plain": [
       "   store_id        city  Jan  Feb  Mar  Apr  May  Jun July Aug  ...  \\\n",
       "0       S_1       Texas    8   20   13   21   17   20   24  17  ...   \n",
       "1       S_2  California   12   19   15   15   11   19    7  15  ...   \n",
       "2       S_3  California   16   16   14   19   23    6   13  13  ...   \n",
       "3       S_4       Texas    8   18   13   10   14   14    6   8  ...   \n",
       "4       S_5       Texas   19    5   24    9    5   24   10   5  ...   \n",
       "..      ...         ...  ...  ...  ...  ...  ...  ...  ...  ..  ...   \n",
       "95     S_96       Texas    7   10   20   20   10   15   15  21  ...   \n",
       "96     S_97  California   13    6    7   15   22   10   21  23  ...   \n",
       "97     S_98       Texas   16    9    6   14   20   13   11  10  ...   \n",
       "98     S_99     Arizona   18   16    9    5   12   22   11  13  ...   \n",
       "99    S_100  California    5   23   17   24   15   21   19  10  ...   \n",
       "\n",
       "             Mar           Apr           May           Jun          July  \\\n",
       "0       eligible      eligible      eligible      eligible      eligible   \n",
       "1       eligible      eligible      eligible      eligible  not eligible   \n",
       "2       eligible      eligible      eligible  not eligible      eligible   \n",
       "3       eligible  not eligible      eligible      eligible  not eligible   \n",
       "4       eligible  not eligible  not eligible      eligible  not eligible   \n",
       "..           ...           ...           ...           ...           ...   \n",
       "95      eligible      eligible  not eligible      eligible      eligible   \n",
       "96  not eligible      eligible      eligible  not eligible      eligible   \n",
       "97  not eligible      eligible      eligible      eligible      eligible   \n",
       "98  not eligible  not eligible      eligible      eligible      eligible   \n",
       "99      eligible      eligible      eligible      eligible      eligible   \n",
       "\n",
       "             Aug           Sep           Oct           Nov           Dec  \n",
       "0       eligible      eligible  not eligible  not eligible  not eligible  \n",
       "1       eligible  not eligible      eligible      eligible      eligible  \n",
       "2       eligible      eligible      eligible      eligible  not eligible  \n",
       "3   not eligible  not eligible      eligible  not eligible      eligible  \n",
       "4   not eligible      eligible      eligible  not eligible      eligible  \n",
       "..           ...           ...           ...           ...           ...  \n",
       "95      eligible      eligible  not eligible      eligible      eligible  \n",
       "96      eligible  not eligible  not eligible      eligible  not eligible  \n",
       "97  not eligible  not eligible      eligible      eligible      eligible  \n",
       "98      eligible      eligible      eligible      eligible  not eligible  \n",
       "99  not eligible      eligible      eligible  not eligible  not eligible  \n",
       "\n",
       "[100 rows x 27 columns]"
      ]
     },
     "execution_count": 285,
     "metadata": {},
     "output_type": "execute_result"
    }
   ],
   "source": [
    "import numpy as np\n",
    "import pandas as pd\n",
    "def bonus_func(sales_col):\n",
    "    elig_values = np.where(sales_col > 10, \"eligible\", \"not eligible\")\n",
    "    return elig_values\n",
    "#store_sales[\"Jan_Bonus\"] = bonus_func(store_sales[\"Jan\"])\n",
    "#store_sales\n",
    "\n",
    "#Using apply method \n",
    "newdf = store_sales.select_dtypes(include = [\"int64\",\"float64\"]).apply(bonus_func)\n",
    "newdf\n",
    "vanshu = pd.concat([store_sales,newdf],axis = 1)\n",
    "\n",
    "vanshu"
   ]
  },
  {
   "cell_type": "code",
   "execution_count": null,
   "id": "8f78f842-1637-478a-9a43-67691daaed80",
   "metadata": {},
   "outputs": [],
   "source": [
    "\n"
   ]
  },
  {
   "cell_type": "code",
   "execution_count": null,
   "id": "f5609c94-878d-4b3d-993b-30030e50125a",
   "metadata": {},
   "outputs": [],
   "source": []
  }
 ],
 "metadata": {
  "kernelspec": {
   "display_name": "Python 3 (ipykernel)",
   "language": "python",
   "name": "python3"
  },
  "language_info": {
   "codemirror_mode": {
    "name": "ipython",
    "version": 3
   },
   "file_extension": ".py",
   "mimetype": "text/x-python",
   "name": "python",
   "nbconvert_exporter": "python",
   "pygments_lexer": "ipython3",
   "version": "3.12.4"
  }
 },
 "nbformat": 4,
 "nbformat_minor": 5
}
